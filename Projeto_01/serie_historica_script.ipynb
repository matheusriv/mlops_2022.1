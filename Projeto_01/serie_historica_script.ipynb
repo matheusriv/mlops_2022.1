{
 "cells": [
  {
   "cell_type": "code",
   "execution_count": 1,
   "id": "33cf7ad4",
   "metadata": {},
   "outputs": [
    {
     "name": "stdout",
     "output_type": "stream",
     "text": [
      "Writing tratar_serie_historica.py\n"
     ]
    }
   ],
   "source": [
    "%%file tratar_serie_historica.py\n",
    "'''\n",
    "Autor: Matheus Silva\n",
    "Data: Maio 2022\n",
    "Este projeto recebe os arquivos csv da database\n",
    "do governo federal sobre a série histórica do preço\n",
    "dos combustíveis e edita esses arquivos, agrupando\n",
    "as informações do valor de venda da gasolina por \n",
    "estado ou região.\n",
    "'''\n",
    "\n",
    "# importando bibliotecas\n",
    "import logging\n",
    "import pandas as pd\n",
    "\n",
    "# configurando o logging\n",
    "logging.basicConfig(\n",
    "    filename='./results.log',\n",
    "    level=logging.INFO,\n",
    "    filemode='w',\n",
    "    format='%(name)s - %(levelname)s - %(message)s')\n",
    "\n",
    "# lendo csv\n",
    "def read_data(file_path):\n",
    "    \"\"\"Read data from csv.\n",
    "    Args:\n",
    "        file_path (str): file path to read.\n",
    "    Return:\n",
    "        df_file (DataFrame): returns the file read as a dataframe.\n",
    "    \"\"\"\n",
    "    try:\n",
    "        df = pd.read_csv(file_path, encoding='unicode_escape', sep = ';')\n",
    "        return df\n",
    "    except: # pylint: disable=bare-except\n",
    "        logging.error(\"Error read_csv. We were not able to find %s\", file_path)\n",
    "        \n",
    "# escrevendo csv\n",
    "def write_data(df, file_path):\n",
    "    \"\"\"Write data to csv.\n",
    "    Args:\n",
    "        df(dataframe): dataframe to csv.\n",
    "        file_path (str): file path to write.\n",
    "    \"\"\"\n",
    "    try:\n",
    "        df.to_csv(file_path, index=False)\n",
    "    except: # pylint: disable=bare-except\n",
    "        logging.error(\"Error to_csv. We were not able to find %s\", file_path)\n",
    "\n",
    "def sh_estado(nome_csv, pasta_dados, pasta_destino):\n",
    "    \"\"\"Csv file of fuel prices grouped by states.\n",
    "    Args:\n",
    "        nome_csv (str): file to read.\n",
    "        pasta_dados (str): folder path with the data.\n",
    "        pasta_destino (str): destination folder path.\n",
    "    Return:\n",
    "        string: success message.\n",
    "    \"\"\"\n",
    "    precos_combustiveis = read_data(pasta_dados + nome_csv)\n",
    "    precos_combustiveis = precos_combustiveis.rename(columns={precos_combustiveis.columns[0]: \"Regiao - Sigla\"})\n",
    "    \n",
    "    precos_combustiveis['Valor de Venda'] = precos_combustiveis['Valor de Venda'].str.replace(',','.').astype(float)\n",
    "    preco_gasolina = precos_combustiveis[precos_combustiveis['Produto'].str.contains('GASOLINA')]\n",
    "    \n",
    "    preco_gasolina_estados = preco_gasolina.groupby('Estado - Sigla')[['Valor de Venda']].mean()\\\n",
    "                            .rename(columns = {'Valor de Venda':'Valor de Venda - Media'}).reset_index()\n",
    "    \n",
    "    nova_linha = {'Estado - Sigla': 'Total', 'Valor de Venda - Media': preco_gasolina['Valor de Venda'].mean()}\n",
    "    preco_gasolina_estados = preco_gasolina_estados.append(nova_linha, ignore_index = True)\n",
    "    \n",
    "    nome_arquivo = 'preco_gasolina_estados_' + nome_csv[3:]\n",
    "    \n",
    "    write_data(preco_gasolina_estados, pasta_destino + nome_arquivo)\n",
    "    \n",
    "    return 'Escrevendo ' + nome_arquivo + ' na pasta ' + pasta_destino\n",
    "    \n",
    "def sh_regiao(nome_csv, pasta_dados, pasta_destino):\n",
    "    \"\"\"Csv file of fuel prices grouped by regions.\n",
    "    Args:\n",
    "        nome_csv (str): file to read.\n",
    "        pasta_dados (str): folder path with the data.\n",
    "        pasta_destino (str): destination folder path.\n",
    "    Return:\n",
    "        string: success message.\n",
    "    \"\"\"\n",
    "    precos_combustiveis = read_data(pasta_dados + nome_csv)\n",
    "    precos_combustiveis = precos_combustiveis.rename(columns={precos_combustiveis.columns[0]: \"Regiao - Sigla\"})\n",
    "    \n",
    "    precos_combustiveis['Valor de Venda'] = precos_combustiveis['Valor de Venda'].str.replace(',','.').astype(float)\n",
    "    precos_combustiveis = precos_combustiveis[precos_combustiveis['Produto'].str.contains('GASOLINA')]\n",
    "    \n",
    "    preco_gasolina_regioes = precos_combustiveis.groupby('Regiao - Sigla')[['Valor de Venda']].mean()\\\n",
    "                            .rename(columns = {'Valor de Venda':'Valor de Venda - Media'}).reset_index()\n",
    "    \n",
    "    nova_linha = {'Regiao - Sigla': 'Total', 'Valor de Venda - Media': precos_combustiveis['Valor de Venda'].mean()}\n",
    "    preco_gasolina_regioes = preco_gasolina_regioes.append(nova_linha, ignore_index = True)\n",
    "    \n",
    "    nome_arquivo = 'preco_gasolina_regioes_' + nome_csv[3:]\n",
    "    \n",
    "    write_data(preco_gasolina_regioes, pasta_destino + nome_arquivo)\n",
    "    \n",
    "    return 'Escrevendo ' + nome_arquivo + ' na pasta ' + pasta_destino\n",
    "    "
   ]
  },
  {
   "cell_type": "code",
   "execution_count": 2,
   "id": "b2b4ddad",
   "metadata": {
    "scrolled": false
   },
   "outputs": [
    {
     "name": "stdout",
     "output_type": "stream",
     "text": [
      "Escrevendo preco_gasolina_estados_2004-01.csv na pasta data/preco_gasolina_estados/\n",
      "Escrevendo preco_gasolina_estados_2004-02.csv na pasta data/preco_gasolina_estados/\n",
      "Escrevendo preco_gasolina_estados_2005-01.csv na pasta data/preco_gasolina_estados/\n",
      "Escrevendo preco_gasolina_estados_2005-02.csv na pasta data/preco_gasolina_estados/\n",
      "Escrevendo preco_gasolina_estados_2006-01.csv na pasta data/preco_gasolina_estados/\n",
      "Escrevendo preco_gasolina_estados_2006-02.csv na pasta data/preco_gasolina_estados/\n",
      "Escrevendo preco_gasolina_estados_2007-01.csv na pasta data/preco_gasolina_estados/\n",
      "Escrevendo preco_gasolina_estados_2007-02.csv na pasta data/preco_gasolina_estados/\n",
      "Escrevendo preco_gasolina_estados_2008-01.csv na pasta data/preco_gasolina_estados/\n",
      "Escrevendo preco_gasolina_estados_2008-02.csv na pasta data/preco_gasolina_estados/\n",
      "Escrevendo preco_gasolina_estados_2009-01.csv na pasta data/preco_gasolina_estados/\n",
      "Escrevendo preco_gasolina_estados_2009-02.csv na pasta data/preco_gasolina_estados/\n",
      "Escrevendo preco_gasolina_estados_2010-01.csv na pasta data/preco_gasolina_estados/\n",
      "Escrevendo preco_gasolina_estados_2010-02.csv na pasta data/preco_gasolina_estados/\n",
      "Escrevendo preco_gasolina_estados_2011-01.csv na pasta data/preco_gasolina_estados/\n",
      "Escrevendo preco_gasolina_estados_2011-02.csv na pasta data/preco_gasolina_estados/\n",
      "Escrevendo preco_gasolina_estados_2012-01.csv na pasta data/preco_gasolina_estados/\n",
      "Escrevendo preco_gasolina_estados_2012-02.csv na pasta data/preco_gasolina_estados/\n",
      "Escrevendo preco_gasolina_estados_2013-01.csv na pasta data/preco_gasolina_estados/\n",
      "Escrevendo preco_gasolina_estados_2013-02.csv na pasta data/preco_gasolina_estados/\n",
      "Escrevendo preco_gasolina_estados_2014-01.csv na pasta data/preco_gasolina_estados/\n",
      "Escrevendo preco_gasolina_estados_2014-02.csv na pasta data/preco_gasolina_estados/\n",
      "Escrevendo preco_gasolina_estados_2015-01.csv na pasta data/preco_gasolina_estados/\n",
      "Escrevendo preco_gasolina_estados_2015-02.csv na pasta data/preco_gasolina_estados/\n",
      "Escrevendo preco_gasolina_estados_2016-01.csv na pasta data/preco_gasolina_estados/\n",
      "Escrevendo preco_gasolina_estados_2016-02.csv na pasta data/preco_gasolina_estados/\n",
      "Escrevendo preco_gasolina_estados_2017-01.csv na pasta data/preco_gasolina_estados/\n",
      "Escrevendo preco_gasolina_estados_2017-02.csv na pasta data/preco_gasolina_estados/\n",
      "Escrevendo preco_gasolina_estados_2018-01.csv na pasta data/preco_gasolina_estados/\n",
      "Escrevendo preco_gasolina_estados_2018-02.csv na pasta data/preco_gasolina_estados/\n",
      "Escrevendo preco_gasolina_estados_2019-01.csv na pasta data/preco_gasolina_estados/\n",
      "Escrevendo preco_gasolina_estados_2019-02.csv na pasta data/preco_gasolina_estados/\n",
      "Escrevendo preco_gasolina_estados_2020-01.csv na pasta data/preco_gasolina_estados/\n"
     ]
    },
    {
     "name": "stderr",
     "output_type": "stream",
     "text": [
      "C:\\Users\\Matheus\\Downloads\\projeto_mlops\\gasolina_precos.py:56: DtypeWarning: Columns (13) have mixed types.Specify dtype option on import or set low_memory=False.\n",
      "  precos_combustiveis = read_data(pasta_dados + nome_csv)\n"
     ]
    },
    {
     "name": "stdout",
     "output_type": "stream",
     "text": [
      "Escrevendo preco_gasolina_estados_2020-02.csv na pasta data/preco_gasolina_estados/\n",
      "Escrevendo preco_gasolina_estados_2021-01.csv na pasta data/preco_gasolina_estados/\n",
      "Escrevendo preco_gasolina_estados_2021-02.csv na pasta data/preco_gasolina_estados/\n"
     ]
    }
   ],
   "source": [
    "lista = ['ca-2004-01.csv', 'ca-2004-02.csv', 'ca-2005-01.csv', 'ca-2005-02.csv', 'ca-2006-01.csv', 'ca-2006-02.csv', 'ca-2007-01.csv', 'ca-2007-02.csv', 'ca-2008-01.csv', 'ca-2008-02.csv', 'ca-2009-01.csv', 'ca-2009-02.csv', 'ca-2010-01.csv', 'ca-2010-02.csv', 'ca-2011-01.csv', 'ca-2011-02.csv', 'ca-2012-01.csv', 'ca-2012-02.csv', 'ca-2013-01.csv', 'ca-2013-02.csv', 'ca-2014-01.csv', 'ca-2014-02.csv', 'ca-2015-01.csv', 'ca-2015-02.csv', 'ca-2016-01.csv', 'ca-2016-02.csv', 'ca-2017-01.csv', 'ca-2017-02.csv', 'ca-2018-01.csv', 'ca-2018-02.csv', 'ca-2019-01.csv', 'ca-2019-02.csv', 'ca-2020-01.csv', 'ca-2020-02.csv', 'ca-2021-01.csv', 'ca-2021-02.csv']\n",
    "pasta_dados = 'data/serie_historica_combustiveis/'\n",
    "\n",
    "from tratar_serie_historica import sh_estado, sh_regiao\n",
    "\n",
    "for arquivo in lista:\n",
    "    print(sh_estado(arquivo, pasta_dados, 'data/preco_gasolina_estados/'))"
   ]
  },
  {
   "cell_type": "code",
   "execution_count": 3,
   "id": "98e362b2",
   "metadata": {},
   "outputs": [
    {
     "name": "stdout",
     "output_type": "stream",
     "text": [
      "Escrevendo preco_gasolina_regioes_2004-01.csv na pasta data/preco_gasolina_regioes/\n",
      "Escrevendo preco_gasolina_regioes_2004-02.csv na pasta data/preco_gasolina_regioes/\n",
      "Escrevendo preco_gasolina_regioes_2005-01.csv na pasta data/preco_gasolina_regioes/\n",
      "Escrevendo preco_gasolina_regioes_2005-02.csv na pasta data/preco_gasolina_regioes/\n",
      "Escrevendo preco_gasolina_regioes_2006-01.csv na pasta data/preco_gasolina_regioes/\n",
      "Escrevendo preco_gasolina_regioes_2006-02.csv na pasta data/preco_gasolina_regioes/\n",
      "Escrevendo preco_gasolina_regioes_2007-01.csv na pasta data/preco_gasolina_regioes/\n",
      "Escrevendo preco_gasolina_regioes_2007-02.csv na pasta data/preco_gasolina_regioes/\n",
      "Escrevendo preco_gasolina_regioes_2008-01.csv na pasta data/preco_gasolina_regioes/\n",
      "Escrevendo preco_gasolina_regioes_2008-02.csv na pasta data/preco_gasolina_regioes/\n",
      "Escrevendo preco_gasolina_regioes_2009-01.csv na pasta data/preco_gasolina_regioes/\n",
      "Escrevendo preco_gasolina_regioes_2009-02.csv na pasta data/preco_gasolina_regioes/\n",
      "Escrevendo preco_gasolina_regioes_2010-01.csv na pasta data/preco_gasolina_regioes/\n",
      "Escrevendo preco_gasolina_regioes_2010-02.csv na pasta data/preco_gasolina_regioes/\n",
      "Escrevendo preco_gasolina_regioes_2011-01.csv na pasta data/preco_gasolina_regioes/\n",
      "Escrevendo preco_gasolina_regioes_2011-02.csv na pasta data/preco_gasolina_regioes/\n",
      "Escrevendo preco_gasolina_regioes_2012-01.csv na pasta data/preco_gasolina_regioes/\n",
      "Escrevendo preco_gasolina_regioes_2012-02.csv na pasta data/preco_gasolina_regioes/\n",
      "Escrevendo preco_gasolina_regioes_2013-01.csv na pasta data/preco_gasolina_regioes/\n",
      "Escrevendo preco_gasolina_regioes_2013-02.csv na pasta data/preco_gasolina_regioes/\n",
      "Escrevendo preco_gasolina_regioes_2014-01.csv na pasta data/preco_gasolina_regioes/\n",
      "Escrevendo preco_gasolina_regioes_2014-02.csv na pasta data/preco_gasolina_regioes/\n",
      "Escrevendo preco_gasolina_regioes_2015-01.csv na pasta data/preco_gasolina_regioes/\n",
      "Escrevendo preco_gasolina_regioes_2015-02.csv na pasta data/preco_gasolina_regioes/\n",
      "Escrevendo preco_gasolina_regioes_2016-01.csv na pasta data/preco_gasolina_regioes/\n",
      "Escrevendo preco_gasolina_regioes_2016-02.csv na pasta data/preco_gasolina_regioes/\n",
      "Escrevendo preco_gasolina_regioes_2017-01.csv na pasta data/preco_gasolina_regioes/\n",
      "Escrevendo preco_gasolina_regioes_2017-02.csv na pasta data/preco_gasolina_regioes/\n",
      "Escrevendo preco_gasolina_regioes_2018-01.csv na pasta data/preco_gasolina_regioes/\n",
      "Escrevendo preco_gasolina_regioes_2018-02.csv na pasta data/preco_gasolina_regioes/\n",
      "Escrevendo preco_gasolina_regioes_2019-01.csv na pasta data/preco_gasolina_regioes/\n",
      "Escrevendo preco_gasolina_regioes_2019-02.csv na pasta data/preco_gasolina_regioes/\n",
      "Escrevendo preco_gasolina_regioes_2020-01.csv na pasta data/preco_gasolina_regioes/\n"
     ]
    },
    {
     "name": "stderr",
     "output_type": "stream",
     "text": [
      "C:\\Users\\Matheus\\Downloads\\projeto_mlops\\gasolina_precos.py:82: DtypeWarning: Columns (13) have mixed types.Specify dtype option on import or set low_memory=False.\n",
      "  precos_combustiveis = read_data(pasta_dados + nome_csv)\n"
     ]
    },
    {
     "name": "stdout",
     "output_type": "stream",
     "text": [
      "Escrevendo preco_gasolina_regioes_2020-02.csv na pasta data/preco_gasolina_regioes/\n",
      "Escrevendo preco_gasolina_regioes_2021-01.csv na pasta data/preco_gasolina_regioes/\n",
      "Escrevendo preco_gasolina_regioes_2021-02.csv na pasta data/preco_gasolina_regioes/\n"
     ]
    }
   ],
   "source": [
    "for arquivo in lista:\n",
    "    print(sh_regiao(arquivo, pasta_dados, 'data/preco_gasolina_regioes/'))"
   ]
  },
  {
   "cell_type": "code",
   "execution_count": null,
   "id": "de3b23a0",
   "metadata": {},
   "outputs": [],
   "source": []
  }
 ],
 "metadata": {
  "kernelspec": {
   "display_name": "Python 3 (ipykernel)",
   "language": "python",
   "name": "python3"
  },
  "language_info": {
   "codemirror_mode": {
    "name": "ipython",
    "version": 3
   },
   "file_extension": ".py",
   "mimetype": "text/x-python",
   "name": "python",
   "nbconvert_exporter": "python",
   "pygments_lexer": "ipython3",
   "version": "3.9.7"
  }
 },
 "nbformat": 4,
 "nbformat_minor": 5
}
