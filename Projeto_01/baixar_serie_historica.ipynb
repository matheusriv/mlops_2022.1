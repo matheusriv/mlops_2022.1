{
 "cells": [
  {
   "cell_type": "code",
   "execution_count": 33,
   "id": "0941ed98",
   "metadata": {},
   "outputs": [],
   "source": [
    "import requests\n",
    "import shutil"
   ]
  },
  {
   "cell_type": "code",
   "execution_count": 34,
   "id": "49cefd1c",
   "metadata": {},
   "outputs": [],
   "source": [
    "lista = ['ca-2004-01.csv', 'ca-2004-02.csv', 'ca-2005-01.csv', 'ca-2005-02.csv', 'ca-2006-01.csv', 'ca-2006-02.csv', 'ca-2007-01.csv', 'ca-2007-02.csv', 'ca-2008-01.csv', 'ca-2008-02.csv', 'ca-2009-01.csv', 'ca-2009-02.csv', 'ca-2010-01.csv', 'ca-2010-02.csv', 'ca-2011-01.csv', 'ca-2011-02.csv', 'ca-2012-01.csv', 'ca-2012-02.csv', 'ca-2013-01.csv', 'ca-2013-02.csv', 'ca-2014-01.csv', 'ca-2014-02.csv', 'ca-2015-01.csv', 'ca-2015-02.csv', 'ca-2016-01.csv', 'ca-2016-02.csv', 'ca-2017-01.csv', 'ca-2017-02.csv', 'ca-2018-01.csv', 'ca-2018-02.csv', 'ca-2019-01.csv', 'ca-2019-02.csv', 'ca-2020-01.csv', 'ca-2020-02.csv', 'ca-2021-01.csv', 'ca-2021-02.csv']\n",
    "url = 'https://www.gov.br/anp/pt-br/centrais-de-conteudo/dados-abertos/arquivos/shpc/dsas/ca/'"
   ]
  },
  {
   "cell_type": "code",
   "execution_count": 35,
   "id": "c80c96c0",
   "metadata": {},
   "outputs": [],
   "source": [
    "def download_file(url, path):\n",
    "    local_filename = url.split('/')[-1]\n",
    "    with requests.get(url, stream=True) as r:\n",
    "        with open(path + local_filename, 'wb') as f:\n",
    "            shutil.copyfileobj(r.raw, f)\n",
    "\n",
    "    return local_filename"
   ]
  },
  {
   "cell_type": "code",
   "execution_count": 36,
   "id": "20704438",
   "metadata": {},
   "outputs": [],
   "source": [
    "# testando\n",
    "#pasta_destino = 'data/serie_historica_combustiveis/'\n",
    "#url = 'http://google.com/robots.txt'\n",
    "#nome_arquivo = download_file(url, pasta_destino)\n",
    "#print(nome_arquivo + ' baixado na pasta ' + pasta_destino)"
   ]
  },
  {
   "cell_type": "code",
   "execution_count": null,
   "id": "525a5fb7",
   "metadata": {},
   "outputs": [],
   "source": [
    "pasta_destino = 'data/serie_historica_combustiveis/'\n",
    "\n",
    "for arquivo in lista:\n",
    "    nome_arquivo = download_file(url + arquivo, pasta_destino)\n",
    "    print(nome_arquivo + ' baixado na pasta ' + pasta_destino)"
   ]
  }
 ],
 "metadata": {
  "kernelspec": {
   "display_name": "Python 3 (ipykernel)",
   "language": "python",
   "name": "python3"
  },
  "language_info": {
   "codemirror_mode": {
    "name": "ipython",
    "version": 3
   },
   "file_extension": ".py",
   "mimetype": "text/x-python",
   "name": "python",
   "nbconvert_exporter": "python",
   "pygments_lexer": "ipython3",
   "version": "3.9.7"
  }
 },
 "nbformat": 4,
 "nbformat_minor": 5
}
